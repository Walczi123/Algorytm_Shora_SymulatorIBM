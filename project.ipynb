{
 "cells": [
  {
   "cell_type": "markdown",
   "metadata": {},
   "source": [
    "# Projekt Algorytmu Shora w symulatorze IBM"
   ]
  },
  {
   "cell_type": "markdown",
   "metadata": {},
   "source": [
    "##### Projekt zrealizowany w ramach przedmioty Kwantowa Sztuczna Inteligencja "
   ]
  },
  {
   "cell_type": "markdown",
   "metadata": {},
   "source": [
    "Autorzy:\n",
    "- Alicja Danilczuk\n",
    "- Martin Mrugała\n",
    "- Filip Szymczak\n",
    "- Patryk Walczak"
   ]
  },
  {
   "cell_type": "code",
   "execution_count": null,
   "metadata": {},
   "outputs": [],
   "source": [
    "from gui.gui import start_gui\n",
    "start_gui()"
   ]
  },
  {
   "cell_type": "code",
   "execution_count": null,
   "metadata": {},
   "outputs": [],
   "source": [
    "from tests.tests import run_tests\n",
    "\n",
    "run_tests()"
   ]
  }
 ],
 "metadata": {
  "interpreter": {
   "hash": "c65a22d9a5163af6ab57ab4560381a7807a445db8e8a6068cb9aa8ea400a64d5"
  },
  "kernelspec": {
   "display_name": "Python 3.8.5 64-bit ('3.8.5')",
   "language": "python",
   "name": "python3"
  },
  "language_info": {
   "codemirror_mode": {
    "name": "ipython",
    "version": 3
   },
   "file_extension": ".py",
   "mimetype": "text/x-python",
   "name": "python",
   "nbconvert_exporter": "python",
   "pygments_lexer": "ipython3",
   "version": "3.8.5"
  },
  "orig_nbformat": 4
 },
 "nbformat": 4,
 "nbformat_minor": 2
}
