{
 "cells": [
  {
   "cell_type": "markdown",
   "metadata": {},
   "source": [
    "# Projekt Algorytmu Shora w symulatorze IBM"
   ]
  },
  {
   "cell_type": "markdown",
   "metadata": {},
   "source": [
    "##### Projekt zrealizowany w ramach przedmioty Kwantowa Sztuczna Inteligencja "
   ]
  },
  {
   "cell_type": "markdown",
   "metadata": {},
   "source": [
    "Autorzy:\n",
    "- Alicja Danilczuk\n",
    "- Martin Mrugała\n",
    "- Filip Szymczak\n",
    "- Patryk Walczak"
   ]
  },
  {
   "cell_type": "code",
   "execution_count": 3,
   "metadata": {},
   "outputs": [
    {
     "ename": "ModuleNotFoundError",
     "evalue": "No module named 'qiskit'",
     "output_type": "error",
     "traceback": [
      "\u001b[0;31m---------------------------------------------------------------------------\u001b[0m",
      "\u001b[0;31mModuleNotFoundError\u001b[0m                       Traceback (most recent call last)",
      "\u001b[1;32m/Users/patryk/Repositories/Algorytm_Shora_SymulatorIBM/project.ipynb Cell 4'\u001b[0m in \u001b[0;36m<cell line: 1>\u001b[0;34m()\u001b[0m\n\u001b[0;32m----> <a href='vscode-notebook-cell:/Users/patryk/Repositories/Algorytm_Shora_SymulatorIBM/project.ipynb#ch0000003?line=0'>1</a>\u001b[0m \u001b[39mfrom\u001b[39;00m \u001b[39mgui\u001b[39;00m\u001b[39m.\u001b[39;00m\u001b[39mgui\u001b[39;00m \u001b[39mimport\u001b[39;00m start_gui\n\u001b[1;32m      <a href='vscode-notebook-cell:/Users/patryk/Repositories/Algorytm_Shora_SymulatorIBM/project.ipynb#ch0000003?line=1'>2</a>\u001b[0m start_gui()\n",
      "File \u001b[0;32m~/Repositories/Algorytm_Shora_SymulatorIBM/gui/gui.py:2\u001b[0m, in \u001b[0;36m<module>\u001b[0;34m\u001b[0m\n\u001b[1;32m      <a href='file:///Users/patryk/Repositories/Algorytm_Shora_SymulatorIBM/gui/gui.py?line=0'>1</a>\u001b[0m \u001b[39mimport\u001b[39;00m \u001b[39mipywidgets\u001b[39;00m \u001b[39mas\u001b[39;00m \u001b[39mwidgets\u001b[39;00m\n\u001b[0;32m----> <a href='file:///Users/patryk/Repositories/Algorytm_Shora_SymulatorIBM/gui/gui.py?line=1'>2</a>\u001b[0m \u001b[39mfrom\u001b[39;00m \u001b[39malgorithms\u001b[39;00m\u001b[39m.\u001b[39;00m\u001b[39mshor\u001b[39;00m \u001b[39mimport\u001b[39;00m \u001b[39m*\u001b[39m\n\u001b[1;32m      <a href='file:///Users/patryk/Repositories/Algorytm_Shora_SymulatorIBM/gui/gui.py?line=2'>3</a>\u001b[0m \u001b[39mfrom\u001b[39;00m \u001b[39mIPython\u001b[39;00m\u001b[39m.\u001b[39;00m\u001b[39mdisplay\u001b[39;00m \u001b[39mimport\u001b[39;00m display, Markdown, clear_output\n\u001b[1;32m      <a href='file:///Users/patryk/Repositories/Algorytm_Shora_SymulatorIBM/gui/gui.py?line=4'>5</a>\u001b[0m factoring_number \u001b[39m=\u001b[39m widgets\u001b[39m.\u001b[39mIntText(\n\u001b[1;32m      <a href='file:///Users/patryk/Repositories/Algorytm_Shora_SymulatorIBM/gui/gui.py?line=5'>6</a>\u001b[0m     value\u001b[39m=\u001b[39m\u001b[39m15\u001b[39m,\n\u001b[1;32m      <a href='file:///Users/patryk/Repositories/Algorytm_Shora_SymulatorIBM/gui/gui.py?line=6'>7</a>\u001b[0m     description\u001b[39m=\u001b[39m\u001b[39m'\u001b[39m\u001b[39mType number for factoring:\u001b[39m\u001b[39m'\u001b[39m)\n",
      "File \u001b[0;32m~/Repositories/Algorytm_Shora_SymulatorIBM/algorithms/shor.py:3\u001b[0m, in \u001b[0;36m<module>\u001b[0;34m\u001b[0m\n\u001b[1;32m      <a href='file:///Users/patryk/Repositories/Algorytm_Shora_SymulatorIBM/algorithms/shor.py?line=0'>1</a>\u001b[0m \u001b[39mimport\u001b[39;00m \u001b[39mmatplotlib\u001b[39;00m\u001b[39m.\u001b[39;00m\u001b[39mpyplot\u001b[39;00m \u001b[39mas\u001b[39;00m \u001b[39mplt\u001b[39;00m\n\u001b[1;32m      <a href='file:///Users/patryk/Repositories/Algorytm_Shora_SymulatorIBM/algorithms/shor.py?line=1'>2</a>\u001b[0m \u001b[39mimport\u001b[39;00m \u001b[39mnumpy\u001b[39;00m \u001b[39mas\u001b[39;00m \u001b[39mnp\u001b[39;00m\n\u001b[0;32m----> <a href='file:///Users/patryk/Repositories/Algorytm_Shora_SymulatorIBM/algorithms/shor.py?line=2'>3</a>\u001b[0m \u001b[39mfrom\u001b[39;00m \u001b[39mqiskit\u001b[39;00m \u001b[39mimport\u001b[39;00m QuantumCircuit, Aer, transpile, assemble\n\u001b[1;32m      <a href='file:///Users/patryk/Repositories/Algorytm_Shora_SymulatorIBM/algorithms/shor.py?line=3'>4</a>\u001b[0m \u001b[39mfrom\u001b[39;00m \u001b[39mqiskit\u001b[39;00m\u001b[39m.\u001b[39;00m\u001b[39mvisualization\u001b[39;00m \u001b[39mimport\u001b[39;00m plot_histogram\n\u001b[1;32m      <a href='file:///Users/patryk/Repositories/Algorytm_Shora_SymulatorIBM/algorithms/shor.py?line=4'>5</a>\u001b[0m \u001b[39mfrom\u001b[39;00m \u001b[39mmath\u001b[39;00m \u001b[39mimport\u001b[39;00m gcd\n",
      "\u001b[0;31mModuleNotFoundError\u001b[0m: No module named 'qiskit'"
     ]
    }
   ],
   "source": [
    "from gui.gui import start_gui\n",
    "start_gui()"
   ]
  },
  {
   "cell_type": "code",
   "execution_count": 4,
   "metadata": {},
   "outputs": [
    {
     "name": "stdout",
     "output_type": "stream",
     "text": [
      "Processing /Users/patryk/Library/Caches/pip/wheels/b3/f0/83/2d08a88d754fb588702748275d4ee261de4d34a09ad05255ea/qiskit-0.36.2-py3-none-any.whl\n",
      "Collecting qiskit-ibmq-provider==0.19.1\n",
      "  Using cached qiskit_ibmq_provider-0.19.1-py3-none-any.whl (240 kB)\n",
      "Collecting qiskit-ignis==0.7.1\n",
      "  Using cached qiskit_ignis-0.7.1-py3-none-any.whl (198 kB)\n",
      "Collecting qiskit-aer==0.10.4\n",
      "  Using cached qiskit-aer-0.10.4.tar.gz (6.5 MB)\n",
      "  Installing build dependencies ... \u001b[?25lerror\n",
      "\u001b[31m  ERROR: Command errored out with exit status 1:\n",
      "   command: /Users/patryk/.pyenv/versions/3.8.5/bin/python /Users/patryk/.pyenv/versions/3.8.5/lib/python3.8/site-packages/pip install --ignore-installed --no-user --prefix /private/var/folders/xr/8g_mjl9n5116r6zq5zg6c6pr0000gn/T/pip-build-env-0s0dcimx/overlay --no-warn-script-location --no-binary :none: --only-binary :none: -i https://pypi.org/simple -- setuptools wheel 'conan>=1.40.0' 'scikit-build>=0.11.0' 'cmake!=3.17.1,!=3.17.0' ninja 'pybind11>2.6' 'oldest-supported-numpy; python_version>'\"'\"'3.7'\"'\"' or platform_machine=='\"'\"'aarch64'\"'\"' or platform_python_implementation=='\"'\"'PyPy'\"'\"'' 'numpy==1.16.3; python_version<='\"'\"'3.7'\"'\"' and platform_machine!='\"'\"'aarch64'\"'\"' or platform_python_implementation=='\"'\"'PyPy'\"'\"''\n",
      "       cwd: None\n",
      "  Complete output (130 lines):\n",
      "  Ignoring numpy: markers 'python_version <= \"3.7\" and platform_machine != \"aarch64\" or platform_python_implementation == \"PyPy\"' don't match your environment\n",
      "  Collecting setuptools\n",
      "    Using cached setuptools-62.3.2-py3-none-any.whl (1.2 MB)\n",
      "  Collecting wheel\n",
      "    Using cached wheel-0.37.1-py2.py3-none-any.whl (35 kB)\n",
      "  Collecting conan>=1.40.0\n",
      "    Using cached conan-1.48.1.tar.gz (755 kB)\n",
      "  Collecting scikit-build>=0.11.0\n",
      "    Using cached scikit_build-0.15.0-py2.py3-none-any.whl (77 kB)\n",
      "  Collecting cmake!=3.17.0,!=3.17.1\n",
      "    Using cached cmake-3.22.4.tar.gz (31 kB)\n",
      "    Installing build dependencies: started\n",
      "    Installing build dependencies: finished with status 'done'\n",
      "    Getting requirements to build wheel: started\n",
      "    Getting requirements to build wheel: finished with status 'done'\n",
      "      Preparing wheel metadata: started\n",
      "      Preparing wheel metadata: finished with status 'done'\n",
      "  Collecting ninja\n",
      "    Using cached ninja-1.10.2.3.tar.gz (26 kB)\n",
      "    Installing build dependencies: started\n",
      "    Installing build dependencies: finished with status 'done'\n",
      "    Getting requirements to build wheel: started\n",
      "    Getting requirements to build wheel: finished with status 'done'\n",
      "      Preparing wheel metadata: started\n",
      "      Preparing wheel metadata: finished with status 'done'\n",
      "  Collecting pybind11>2.6\n",
      "    Using cached pybind11-2.9.2-py2.py3-none-any.whl (213 kB)\n",
      "  Collecting oldest-supported-numpy\n",
      "    Using cached oldest_supported_numpy-2022.5.28-py3-none-any.whl (3.9 kB)\n",
      "  Collecting PyJWT<2.0.0,>=1.4.0\n",
      "    Using cached PyJWT-1.7.1-py2.py3-none-any.whl (18 kB)\n",
      "  Collecting requests<3.0.0,>=2.25\n",
      "    Using cached requests-2.27.1-py2.py3-none-any.whl (63 kB)\n",
      "  Collecting urllib3<1.27,>=1.26.6\n",
      "    Using cached urllib3-1.26.9-py2.py3-none-any.whl (138 kB)\n",
      "  Collecting colorama<0.5.0,>=0.3.3\n",
      "    Using cached colorama-0.4.4-py2.py3-none-any.whl (16 kB)\n",
      "  Collecting PyYAML<6.0,>=3.11\n",
      "    Using cached PyYAML-5.4.1.tar.gz (175 kB)\n",
      "    Installing build dependencies: started\n",
      "    Installing build dependencies: finished with status 'done'\n",
      "    Getting requirements to build wheel: started\n",
      "    Getting requirements to build wheel: finished with status 'done'\n",
      "      Preparing wheel metadata: started\n",
      "      Preparing wheel metadata: finished with status 'done'\n",
      "  Collecting patch-ng<1.18,>=1.17.4\n",
      "    Using cached patch-ng-1.17.4.tar.gz (17 kB)\n",
      "  Collecting fasteners>=0.14.1\n",
      "    Using cached fasteners-0.17.3-py3-none-any.whl (18 kB)\n",
      "  Collecting six<=1.16.0,>=1.10.0\n",
      "    Using cached six-1.16.0-py2.py3-none-any.whl (11 kB)\n",
      "  Collecting node-semver==0.6.1\n",
      "    Using cached node_semver-0.6.1-py3-none-any.whl (10 kB)\n",
      "  Collecting pygments<3.0,>=2.0\n",
      "    Using cached Pygments-2.12.0-py3-none-any.whl (1.1 MB)\n",
      "  Collecting tqdm<5,>=4.28.1\n",
      "    Using cached tqdm-4.64.0-py2.py3-none-any.whl (78 kB)\n",
      "  Collecting python-dateutil<3,>=2.7.0\n",
      "    Using cached python_dateutil-2.8.2-py2.py3-none-any.whl (247 kB)\n",
      "  Collecting bottle<0.13,>=0.12.8\n",
      "    Using cached bottle-0.12.21-py3-none-any.whl (89 kB)\n",
      "  Collecting pluginbase>=0.5\n",
      "    Using cached pluginbase-1.0.1.tar.gz (43 kB)\n",
      "  Collecting Jinja2<4.0.0,>=3.0\n",
      "    Using cached Jinja2-3.1.2-py3-none-any.whl (133 kB)\n",
      "  Collecting distro\n",
      "    Using cached distro-1.7.0-py3-none-any.whl (20 kB)\n",
      "  Collecting packaging\n",
      "    Using cached packaging-21.3-py3-none-any.whl (40 kB)\n",
      "  Collecting numpy==1.17.3; python_version == \"3.8\" and (platform_machine != \"arm64\" or platform_system != \"Darwin\") and platform_machine != \"aarch64\" and platform_machine != \"s390x\" and platform_machine != \"loongarch64\" and platform_python_implementation != \"PyPy\"\n",
      "    Using cached numpy-1.17.3.zip (6.4 MB)\n",
      "  Collecting idna<4,>=2.5; python_version >= \"3\"\n",
      "    Using cached idna-3.3-py3-none-any.whl (61 kB)\n",
      "  Collecting charset-normalizer~=2.0.0; python_version >= \"3\"\n",
      "    Using cached charset_normalizer-2.0.12-py3-none-any.whl (39 kB)\n",
      "  Collecting certifi>=2017.4.17\n",
      "    Using cached certifi-2022.5.18.1-py3-none-any.whl (155 kB)\n",
      "  Collecting MarkupSafe>=2.0\n",
      "    Using cached MarkupSafe-2.1.1.tar.gz (18 kB)\n",
      "  Collecting pyparsing!=3.0.5,>=2.0.2\n",
      "    Using cached pyparsing-3.0.9-py3-none-any.whl (98 kB)\n",
      "  Using legacy setup.py install for conan, since package 'wheel' is not installed.\n",
      "  Using legacy setup.py install for patch-ng, since package 'wheel' is not installed.\n",
      "  Using legacy setup.py install for pluginbase, since package 'wheel' is not installed.\n",
      "  Using legacy setup.py install for numpy, since package 'wheel' is not installed.\n",
      "  Using legacy setup.py install for MarkupSafe, since package 'wheel' is not installed.\n",
      "  Building wheels for collected packages: cmake, ninja, PyYAML\n",
      "    Building wheel for cmake (PEP 517): started\n",
      "    Building wheel for cmake (PEP 517): finished with status 'error'\n",
      "    ERROR: Command errored out with exit status 1:\n",
      "     command: /Users/patryk/.pyenv/versions/3.8.5/bin/python /Users/patryk/.pyenv/versions/3.8.5/lib/python3.8/site-packages/pip/_vendor/pep517/_in_process.py build_wheel /var/folders/xr/8g_mjl9n5116r6zq5zg6c6pr0000gn/T/tmpxsy0g2z_\n",
      "         cwd: /private/var/folders/xr/8g_mjl9n5116r6zq5zg6c6pr0000gn/T/pip-install-ix7c3p__/cmake\n",
      "    Complete output (9 lines):\n",
      "    Traceback (most recent call last):\n",
      "      File \"/private/var/folders/xr/8g_mjl9n5116r6zq5zg6c6pr0000gn/T/pip-build-env-lp2q9nkf/overlay/lib/python3.8/site-packages/skbuild/setuptools_wrap.py\", line 613, in setup\n",
      "        cmkr = cmaker.CMaker(cmake_executable)\n",
      "      File \"/private/var/folders/xr/8g_mjl9n5116r6zq5zg6c6pr0000gn/T/pip-build-env-lp2q9nkf/overlay/lib/python3.8/site-packages/skbuild/cmaker.py\", line 141, in __init__\n",
      "        self.cmake_version = get_cmake_version(self.cmake_executable)\n",
      "      File \"/private/var/folders/xr/8g_mjl9n5116r6zq5zg6c6pr0000gn/T/pip-build-env-lp2q9nkf/overlay/lib/python3.8/site-packages/skbuild/cmaker.py\", line 95, in get_cmake_version\n",
      "        raise SKBuildError(\n",
      "  \n",
      "    Problem with the CMake installation, aborting build. CMake executable is cmake\n",
      "    ----------------------------------------\n",
      "    ERROR: Failed building wheel for cmake\n",
      "    Building wheel for ninja (PEP 517): started\n",
      "    Building wheel for ninja (PEP 517): finished with status 'error'\n",
      "    ERROR: Command errored out with exit status 1:\n",
      "     command: /Users/patryk/.pyenv/versions/3.8.5/bin/python /Users/patryk/.pyenv/versions/3.8.5/lib/python3.8/site-packages/pip/_vendor/pep517/_in_process.py build_wheel /var/folders/xr/8g_mjl9n5116r6zq5zg6c6pr0000gn/T/tmp2d9veave\n",
      "         cwd: /private/var/folders/xr/8g_mjl9n5116r6zq5zg6c6pr0000gn/T/pip-install-ix7c3p__/ninja\n",
      "    Complete output (9 lines):\n",
      "    Traceback (most recent call last):\n",
      "      File \"/private/var/folders/xr/8g_mjl9n5116r6zq5zg6c6pr0000gn/T/pip-build-env-wk_hzcvr/overlay/lib/python3.8/site-packages/skbuild/setuptools_wrap.py\", line 613, in setup\n",
      "        cmkr = cmaker.CMaker(cmake_executable)\n",
      "      File \"/private/var/folders/xr/8g_mjl9n5116r6zq5zg6c6pr0000gn/T/pip-build-env-wk_hzcvr/overlay/lib/python3.8/site-packages/skbuild/cmaker.py\", line 141, in __init__\n",
      "        self.cmake_version = get_cmake_version(self.cmake_executable)\n",
      "      File \"/private/var/folders/xr/8g_mjl9n5116r6zq5zg6c6pr0000gn/T/pip-build-env-wk_hzcvr/overlay/lib/python3.8/site-packages/skbuild/cmaker.py\", line 95, in get_cmake_version\n",
      "        raise SKBuildError(\n",
      "  \n",
      "    Problem with the CMake installation, aborting build. CMake executable is cmake\n",
      "    ----------------------------------------\n",
      "    ERROR: Failed building wheel for ninja\n",
      "    Building wheel for PyYAML (PEP 517): started\n",
      "    Building wheel for PyYAML (PEP 517): finished with status 'done'\n",
      "    Created wheel for PyYAML: filename=PyYAML-5.4.1-cp38-cp38-macosx_11_0_x86_64.whl size=149711 sha256=9eb9a2bf7ede1af5d1c1288bad9ddc99aa71249d68528063c15a2a94dc4bd2cd\n",
      "    Stored in directory: /Users/patryk/Library/Caches/pip/wheels/dd/c5/1d/5d7436173d3efd4a14dcb510eb0b29525ecb6b0e41489e716e\n",
      "  Successfully built PyYAML\n",
      "  Failed to build cmake ninja\n",
      "  ERROR: Could not build wheels for cmake, ninja which use PEP 517 and cannot be installed directly\n",
      "  WARNING: You are using pip version 20.1.1; however, version 22.1.1 is available.\n",
      "  You should consider upgrading via the '/Users/patryk/.pyenv/versions/3.8.5/bin/python -m pip install --upgrade pip' command.\n",
      "  ----------------------------------------\u001b[0m\n",
      "\u001b[?25h\u001b[31mERROR: Command errored out with exit status 1: /Users/patryk/.pyenv/versions/3.8.5/bin/python /Users/patryk/.pyenv/versions/3.8.5/lib/python3.8/site-packages/pip install --ignore-installed --no-user --prefix /private/var/folders/xr/8g_mjl9n5116r6zq5zg6c6pr0000gn/T/pip-build-env-0s0dcimx/overlay --no-warn-script-location --no-binary :none: --only-binary :none: -i https://pypi.org/simple -- setuptools wheel 'conan>=1.40.0' 'scikit-build>=0.11.0' 'cmake!=3.17.1,!=3.17.0' ninja 'pybind11>2.6' 'oldest-supported-numpy; python_version>'\"'\"'3.7'\"'\"' or platform_machine=='\"'\"'aarch64'\"'\"' or platform_python_implementation=='\"'\"'PyPy'\"'\"'' 'numpy==1.16.3; python_version<='\"'\"'3.7'\"'\"' and platform_machine!='\"'\"'aarch64'\"'\"' or platform_python_implementation=='\"'\"'PyPy'\"'\"'' Check the logs for full command output.\u001b[0m\n",
      "\u001b[33mWARNING: You are using pip version 20.1.1; however, version 22.1.1 is available.\n",
      "You should consider upgrading via the '/Users/patryk/.pyenv/versions/3.8.5/bin/python -m pip install --upgrade pip' command.\u001b[0m\n",
      "Note: you may need to restart the kernel to use updated packages.\n"
     ]
    }
   ],
   "source": [
    "pip install qiskit"
   ]
  },
  {
   "cell_type": "code",
   "execution_count": null,
   "metadata": {},
   "outputs": [],
   "source": []
  }
 ],
 "metadata": {
  "interpreter": {
   "hash": "c65a22d9a5163af6ab57ab4560381a7807a445db8e8a6068cb9aa8ea400a64d5"
  },
  "kernelspec": {
   "display_name": "Python 3.8.5 64-bit ('3.8.5')",
   "language": "python",
   "name": "python3"
  },
  "language_info": {
   "codemirror_mode": {
    "name": "ipython",
    "version": 3
   },
   "file_extension": ".py",
   "mimetype": "text/x-python",
   "name": "python",
   "nbconvert_exporter": "python",
   "pygments_lexer": "ipython3",
   "version": "3.8.5"
  },
  "orig_nbformat": 4
 },
 "nbformat": 4,
 "nbformat_minor": 2
}
